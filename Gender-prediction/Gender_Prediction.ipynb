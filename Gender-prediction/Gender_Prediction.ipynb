{
 "cells": [
  {
   "cell_type": "code",
   "execution_count": null,
   "metadata": {},
   "outputs": [],
   "source": [
    "with open('corpus.txt','r',encoding=\"utf-8\") as f:\n",
    "    result = f.read().lower()\n",
    "\n",
    "male_keywords=[\"Mr\",\"he\",\"his\",\"him\",\"he's\",\"male\",\"boy\",\"man\"]\n",
    "females_keywords=[\"Mrs\",\"she\",\"her\",\"hers\",\"she's\",\"female\",\"daughter\",\"woman\"]\n",
    "\n",
    "data = result.split(' ')\n",
    "number = int(input())\n",
    "for i in range(number):\n",
    "    prompt = str(input()).lower()\n",
    "    male = 0\n",
    "    female = 0\n",
    "    for i in range(len(data)):\n",
    "        if data[i] == prompt:\n",
    "            record1 = data[i:i+10]\n",
    "            record2 = data[i-10:i]\n",
    "            final = record1 + record2\n",
    "            for j in final:\n",
    "                for k in male_keywords:\n",
    "                    if j == k:\n",
    "                        male+=1\n",
    "                for l in females_keywords:\n",
    "                    if j == l:\n",
    "                        female+=1\n",
    "    if male>female:\n",
    "        print(\"Male\")\n",
    "    else:\n",
    "        print(\"Female\")"
   ]
  }
 ],
 "metadata": {
  "kernelspec": {
   "display_name": "Python 3",
   "language": "python",
   "name": "python3"
  },
  "language_info": {
   "codemirror_mode": {
    "name": "ipython",
    "version": 3
   },
   "file_extension": ".py",
   "mimetype": "text/x-python",
   "name": "python",
   "nbconvert_exporter": "python",
   "pygments_lexer": "ipython3",
   "version": "3.6.5"
  }
 },
 "nbformat": 4,
 "nbformat_minor": 2
}
